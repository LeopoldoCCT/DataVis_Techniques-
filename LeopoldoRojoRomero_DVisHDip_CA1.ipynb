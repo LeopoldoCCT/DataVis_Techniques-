{
 "cells": [
  {
   "cell_type": "markdown",
   "id": "e9ab5c2d",
   "metadata": {},
   "source": [
    "## Scenario: "
   ]
  },
  {
   "cell_type": "markdown",
   "id": "5d4c94a3",
   "metadata": {},
   "source": [
    "You have been retained by a retail company to analyse a dataset based on video games. This analysis will help determine the sales strategy for the company in their upcoming Winter season.   "
   ]
  },
  {
   "cell_type": "code",
   "execution_count": 3,
   "id": "d3dc1e7f",
   "metadata": {},
   "outputs": [],
   "source": [
    "import pandas as pd\n",
    "import numpy as np\n",
    "import matplotlib.pyplot as plt\n",
    "import seaborn as sns\n",
    "import warnings\n",
    "\n",
    "#warnings.filterwarnings('ignore')\n",
    "%matplotlib inline"
   ]
  },
  {
   "cell_type": "code",
   "execution_count": null,
   "id": "fed16326",
   "metadata": {},
   "outputs": [],
   "source": []
  },
  {
   "cell_type": "code",
   "execution_count": null,
   "id": "045ba014",
   "metadata": {},
   "outputs": [],
   "source": []
  },
  {
   "cell_type": "markdown",
   "id": "c7b88b5f",
   "metadata": {},
   "source": [
    "### Part 1:"
   ]
  },
  {
   "cell_type": "markdown",
   "id": "0e25c02a",
   "metadata": {},
   "source": [
    "•\tWhat are the top 5 games by global sales?  \n",
    "•\tIs there a correlation between the “na_sales” and “jp_sales” for the years 2010-2014?  \n",
    "•\tWhat is the distribution of the most popular 4 game genres?  \n",
    "•\tDo older games (2005 and earlier) have a higher MEAN “eu_sales” than newer games (after 2005)?  \n",
    "•\tWhat are the 3 most common “developer” in the dataset?  \n"
   ]
  },
  {
   "cell_type": "code",
   "execution_count": null,
   "id": "9f9d45fe",
   "metadata": {},
   "outputs": [],
   "source": []
  },
  {
   "cell_type": "code",
   "execution_count": null,
   "id": "9c2e2c94",
   "metadata": {},
   "outputs": [],
   "source": []
  },
  {
   "cell_type": "code",
   "execution_count": null,
   "id": "21e8021e",
   "metadata": {},
   "outputs": [],
   "source": []
  },
  {
   "cell_type": "markdown",
   "id": "a4a66f89",
   "metadata": {},
   "source": [
    "### Part 2:"
   ]
  },
  {
   "cell_type": "markdown",
   "id": "f413fea3",
   "metadata": {},
   "source": [
    "You must answer a “Statistically Relevant” question, OF YOUR OWN CHOOSING, using the dataset, that has not been asked in Part 1. This must have a logical basis that enhances the information and insight gained in the scenario.  "
   ]
  },
  {
   "cell_type": "code",
   "execution_count": null,
   "id": "4ab11c12",
   "metadata": {},
   "outputs": [],
   "source": []
  },
  {
   "cell_type": "code",
   "execution_count": null,
   "id": "d4af5631",
   "metadata": {},
   "outputs": [],
   "source": []
  },
  {
   "cell_type": "code",
   "execution_count": null,
   "id": "5a932187",
   "metadata": {},
   "outputs": [],
   "source": []
  },
  {
   "cell_type": "markdown",
   "id": "812ef047",
   "metadata": {},
   "source": [
    "### Part 3:"
   ]
  },
  {
   "cell_type": "markdown",
   "id": "c0551cd4",
   "metadata": {},
   "source": [
    "You must explain, in detail,    \n",
    " - why you chose the specific methods to engineer the data and how you achieved this in python (Part 1/Part 2)  \n",
    " - why you chose your specific visualizations to illustrate each answer (Part 1/Part 2)  \n",
    " - what design decisions you made for each visualization (for example, but not only: colour, font, titles, size, text position, font size etc) (Part 1/Part 2)  \n",
    " - what your rationale is for the visualization created in Part 2 and how your question enhances the information and insight gained in the scenario (Part 2)    "
   ]
  },
  {
   "cell_type": "code",
   "execution_count": null,
   "id": "954f190f",
   "metadata": {},
   "outputs": [],
   "source": []
  },
  {
   "cell_type": "code",
   "execution_count": null,
   "id": "22e0be85",
   "metadata": {},
   "outputs": [],
   "source": []
  },
  {
   "cell_type": "code",
   "execution_count": null,
   "id": "fe35c55e",
   "metadata": {},
   "outputs": [],
   "source": []
  },
  {
   "cell_type": "code",
   "execution_count": null,
   "id": "2da8a2af",
   "metadata": {},
   "outputs": [],
   "source": []
  },
  {
   "cell_type": "code",
   "execution_count": null,
   "id": "0518b26b",
   "metadata": {},
   "outputs": [],
   "source": []
  }
 ],
 "metadata": {
  "kernelspec": {
   "display_name": "Python 3 (ipykernel)",
   "language": "python",
   "name": "python3"
  },
  "language_info": {
   "codemirror_mode": {
    "name": "ipython",
    "version": 3
   },
   "file_extension": ".py",
   "mimetype": "text/x-python",
   "name": "python",
   "nbconvert_exporter": "python",
   "pygments_lexer": "ipython3",
   "version": "3.11.4"
  }
 },
 "nbformat": 4,
 "nbformat_minor": 5
}
