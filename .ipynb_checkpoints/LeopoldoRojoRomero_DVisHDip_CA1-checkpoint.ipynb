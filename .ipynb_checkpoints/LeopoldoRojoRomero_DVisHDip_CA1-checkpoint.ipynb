{
 "cells": [
  {
   "cell_type": "markdown",
   "id": "8af90b88",
   "metadata": {},
   "source": [
    "## Scenario: "
   ]
  },
  {
   "cell_type": "markdown",
   "id": "5d542911",
   "metadata": {},
   "source": [
    "You have been retained by a retail company to analyse a dataset based on video games. This analysis will help determine the sales strategy for the company in their upcoming Winter season.   "
   ]
  },
  {
   "cell_type": "code",
   "execution_count": 4,
   "id": "8749e7a1",
   "metadata": {},
   "outputs": [],
   "source": [
    "import pandas as pd\n",
    "import numpy as np\n",
    "import matplotlib.pyplot as plt\n",
    "import seaborn as sns\n",
    "import warnings\n",
    "\n",
    "#warnings.filterwarnings('ignore')\n",
    "%matplotlib inline"
   ]
  },
  {
   "cell_type": "code",
   "execution_count": 5,
   "id": "1e12d004",
   "metadata": {},
   "outputs": [],
   "source": [
    "#!pip install --upgrade pandas\n",
    "#!pip install openpyxl --upgrade openpyxl"
   ]
  },
  {
   "cell_type": "markdown",
   "id": "287e85aa",
   "metadata": {},
   "source": [
    "### Data dictionary"
   ]
  },
  {
   "cell_type": "code",
   "execution_count": 7,
   "id": "f419c662",
   "metadata": {},
   "outputs": [
    {
     "data": {
      "text/html": [
       "<div>\n",
       "<style scoped>\n",
       "    .dataframe tbody tr th:only-of-type {\n",
       "        vertical-align: middle;\n",
       "    }\n",
       "\n",
       "    .dataframe tbody tr th {\n",
       "        vertical-align: top;\n",
       "    }\n",
       "\n",
       "    .dataframe thead th {\n",
       "        text-align: right;\n",
       "    }\n",
       "</style>\n",
       "<table border=\"1\" class=\"dataframe\">\n",
       "  <thead>\n",
       "    <tr style=\"text-align: right;\">\n",
       "      <th></th>\n",
       "      <th>Column Name</th>\n",
       "      <th>Description</th>\n",
       "      <th>Data Type</th>\n",
       "    </tr>\n",
       "  </thead>\n",
       "  <tbody>\n",
       "    <tr>\n",
       "      <th>0</th>\n",
       "      <td>name</td>\n",
       "      <td>Name of the Game</td>\n",
       "      <td>Text</td>\n",
       "    </tr>\n",
       "    <tr>\n",
       "      <th>1</th>\n",
       "      <td>platform</td>\n",
       "      <td>Game Platform</td>\n",
       "      <td>Text</td>\n",
       "    </tr>\n",
       "    <tr>\n",
       "      <th>2</th>\n",
       "      <td>year_of_release</td>\n",
       "      <td>Year Game Released</td>\n",
       "      <td>Integer</td>\n",
       "    </tr>\n",
       "    <tr>\n",
       "      <th>3</th>\n",
       "      <td>genre</td>\n",
       "      <td>Type of Game</td>\n",
       "      <td>Text</td>\n",
       "    </tr>\n",
       "    <tr>\n",
       "      <th>4</th>\n",
       "      <td>publisher</td>\n",
       "      <td>Name of Game Publisher</td>\n",
       "      <td>Text</td>\n",
       "    </tr>\n",
       "    <tr>\n",
       "      <th>5</th>\n",
       "      <td>na_sales</td>\n",
       "      <td>North American Sales</td>\n",
       "      <td>Float</td>\n",
       "    </tr>\n",
       "    <tr>\n",
       "      <th>6</th>\n",
       "      <td>eu_sales</td>\n",
       "      <td>European Sales</td>\n",
       "      <td>Float</td>\n",
       "    </tr>\n",
       "    <tr>\n",
       "      <th>7</th>\n",
       "      <td>jp_sales</td>\n",
       "      <td>Japanese Sales</td>\n",
       "      <td>Float</td>\n",
       "    </tr>\n",
       "    <tr>\n",
       "      <th>8</th>\n",
       "      <td>other_sales</td>\n",
       "      <td>Sales from Other Countries Not including N-Ame...</td>\n",
       "      <td>Float</td>\n",
       "    </tr>\n",
       "    <tr>\n",
       "      <th>9</th>\n",
       "      <td>global_sales</td>\n",
       "      <td>Global Sales</td>\n",
       "      <td>Float</td>\n",
       "    </tr>\n",
       "    <tr>\n",
       "      <th>10</th>\n",
       "      <td>critic_score</td>\n",
       "      <td>Critics Rating of the Game</td>\n",
       "      <td>Integer</td>\n",
       "    </tr>\n",
       "    <tr>\n",
       "      <th>11</th>\n",
       "      <td>critic_count</td>\n",
       "      <td>Number of Critics who rated the game</td>\n",
       "      <td>Integer</td>\n",
       "    </tr>\n",
       "    <tr>\n",
       "      <th>12</th>\n",
       "      <td>user_score</td>\n",
       "      <td>Users Rating of the Game</td>\n",
       "      <td>Float</td>\n",
       "    </tr>\n",
       "    <tr>\n",
       "      <th>13</th>\n",
       "      <td>user_count</td>\n",
       "      <td>Number of Users who rated the game</td>\n",
       "      <td>Integer</td>\n",
       "    </tr>\n",
       "    <tr>\n",
       "      <th>14</th>\n",
       "      <td>developer</td>\n",
       "      <td>Developer Name</td>\n",
       "      <td>Text</td>\n",
       "    </tr>\n",
       "    <tr>\n",
       "      <th>15</th>\n",
       "      <td>rating</td>\n",
       "      <td>Appropriate User Age Rating</td>\n",
       "      <td>Text</td>\n",
       "    </tr>\n",
       "  </tbody>\n",
       "</table>\n",
       "</div>"
      ],
      "text/plain": [
       "        Column Name                                        Description  \\\n",
       "0              name                                   Name of the Game   \n",
       "1          platform                                     Game Platform    \n",
       "2   year_of_release                                 Year Game Released   \n",
       "3             genre                                       Type of Game   \n",
       "4         publisher                             Name of Game Publisher   \n",
       "5          na_sales                               North American Sales   \n",
       "6          eu_sales                                     European Sales   \n",
       "7          jp_sales                                     Japanese Sales   \n",
       "8       other_sales  Sales from Other Countries Not including N-Ame...   \n",
       "9      global_sales                                       Global Sales   \n",
       "10     critic_score                         Critics Rating of the Game   \n",
       "11     critic_count               Number of Critics who rated the game   \n",
       "12       user_score                          Users Rating of the Game    \n",
       "13       user_count                 Number of Users who rated the game   \n",
       "14        developer                                     Developer Name   \n",
       "15           rating                        Appropriate User Age Rating   \n",
       "\n",
       "   Data Type  \n",
       "0       Text  \n",
       "1       Text  \n",
       "2    Integer  \n",
       "3       Text  \n",
       "4       Text  \n",
       "5      Float  \n",
       "6      Float  \n",
       "7      Float  \n",
       "8      Float  \n",
       "9      Float  \n",
       "10   Integer  \n",
       "11   Integer  \n",
       "12     Float  \n",
       "13   Integer  \n",
       "14      Text  \n",
       "15      Text  "
      ]
     },
     "execution_count": 7,
     "metadata": {},
     "output_type": "execute_result"
    }
   ],
   "source": [
    "d_dict = pd.read_excel('vgsales data dictionary.xlsx')\n",
    "d_dict"
   ]
  },
  {
   "cell_type": "markdown",
   "id": "3dbbb16c",
   "metadata": {},
   "source": [
    "### Part 1:"
   ]
  },
  {
   "cell_type": "markdown",
   "id": "f36f41a5",
   "metadata": {},
   "source": [
    "•\tWhat are the top 5 games by global sales?  \n",
    "•\tIs there a correlation between the “na_sales” and “jp_sales” for the years 2010-2014?  \n",
    "•\tWhat is the distribution of the most popular 4 game genres?  \n",
    "•\tDo older games (2005 and earlier) have a higher MEAN “eu_sales” than newer games (after 2005)?  \n",
    "•\tWhat are the 3 most common “developer” in the dataset?  \n"
   ]
  },
  {
   "cell_type": "code",
   "execution_count": null,
   "id": "5af55ed7",
   "metadata": {},
   "outputs": [],
   "source": []
  },
  {
   "cell_type": "code",
   "execution_count": null,
   "id": "1564d5e5",
   "metadata": {},
   "outputs": [],
   "source": []
  },
  {
   "cell_type": "code",
   "execution_count": null,
   "id": "840625cc",
   "metadata": {},
   "outputs": [],
   "source": []
  },
  {
   "cell_type": "markdown",
   "id": "2283c892",
   "metadata": {},
   "source": [
    "### Part 2:"
   ]
  },
  {
   "cell_type": "markdown",
   "id": "7fca82ac",
   "metadata": {},
   "source": [
    "You must answer a “Statistically Relevant” question, OF YOUR OWN CHOOSING, using the dataset, that has not been asked in Part 1. This must have a logical basis that enhances the information and insight gained in the scenario.  "
   ]
  },
  {
   "cell_type": "code",
   "execution_count": null,
   "id": "bacdb6fb",
   "metadata": {},
   "outputs": [],
   "source": []
  },
  {
   "cell_type": "code",
   "execution_count": null,
   "id": "f9e7d7f7",
   "metadata": {},
   "outputs": [],
   "source": []
  },
  {
   "cell_type": "code",
   "execution_count": null,
   "id": "ad4d08ce",
   "metadata": {},
   "outputs": [],
   "source": []
  },
  {
   "cell_type": "markdown",
   "id": "e83a936f",
   "metadata": {},
   "source": [
    "### Part 3:"
   ]
  },
  {
   "cell_type": "markdown",
   "id": "620a2dde",
   "metadata": {},
   "source": [
    "You must explain, in detail,    \n",
    " - why you chose the specific methods to engineer the data and how you achieved this in python (Part 1/Part 2)  \n",
    " - why you chose your specific visualizations to illustrate each answer (Part 1/Part 2)  \n",
    " - what design decisions you made for each visualization (for example, but not only: colour, font, titles, size, text position, font size etc) (Part 1/Part 2)  \n",
    " - what your rationale is for the visualization created in Part 2 and how your question enhances the information and insight gained in the scenario (Part 2)    "
   ]
  },
  {
   "cell_type": "code",
   "execution_count": null,
   "id": "f59dc453",
   "metadata": {},
   "outputs": [],
   "source": []
  },
  {
   "cell_type": "code",
   "execution_count": null,
   "id": "78b67246",
   "metadata": {},
   "outputs": [],
   "source": []
  },
  {
   "cell_type": "code",
   "execution_count": null,
   "id": "94cc2b81",
   "metadata": {},
   "outputs": [],
   "source": []
  },
  {
   "cell_type": "code",
   "execution_count": null,
   "id": "b26b40ab",
   "metadata": {},
   "outputs": [],
   "source": []
  },
  {
   "cell_type": "code",
   "execution_count": null,
   "id": "51dea548",
   "metadata": {},
   "outputs": [],
   "source": []
  }
 ],
 "metadata": {
  "kernelspec": {
   "display_name": "Python 3 (ipykernel)",
   "language": "python",
   "name": "python3"
  },
  "language_info": {
   "codemirror_mode": {
    "name": "ipython",
    "version": 3
   },
   "file_extension": ".py",
   "mimetype": "text/x-python",
   "name": "python",
   "nbconvert_exporter": "python",
   "pygments_lexer": "ipython3",
   "version": "3.11.4"
  }
 },
 "nbformat": 4,
 "nbformat_minor": 5
}
